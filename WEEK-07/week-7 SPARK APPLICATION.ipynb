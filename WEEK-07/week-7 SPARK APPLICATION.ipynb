{
 "cells": [
  {
   "cell_type": "code",
   "execution_count": 0,
   "metadata": {
    "application/vnd.databricks.v1+cell": {
     "cellMetadata": {
      "byteLimit": 2048000,
      "rowLimit": 10000
     },
     "inputWidgets": {},
     "nuid": "e771ba2e-2278-4259-b348-cef868518b61",
     "showTitle": false,
     "tableResultSettingsMap": {},
     "title": ""
    }
   },
   "outputs": [
    {
     "output_type": "display_data",
     "data": {
      "text/html": [
       "<style scoped>\n",
       "  .table-result-container {\n",
       "    max-height: 300px;\n",
       "    overflow: auto;\n",
       "  }\n",
       "  table, th, td {\n",
       "    border: 1px solid black;\n",
       "    border-collapse: collapse;\n",
       "  }\n",
       "  th, td {\n",
       "    padding: 5px;\n",
       "  }\n",
       "  th {\n",
       "    text-align: left;\n",
       "  }\n",
       "</style><div class='table-result-container'><table class='table-result'><thead style='background-color: white'><tr><th>path</th><th>name</th><th>size</th><th>modificationTime</th></tr></thead><tbody><tr><td>dbfs:/FileStore/tables/OP_CVRD_RCPNT_PRFL_SPLMTL_P01302025_01212025-1.csv</td><td>OP_CVRD_RCPNT_PRFL_SPLMTL_P01302025_01212025-1.csv</td><td>357419225</td><td>1742748308000</td></tr><tr><td>dbfs:/FileStore/tables/OP_CVRD_RCPNT_PRFL_SPLMTL_P01302025_01212025.csv</td><td>OP_CVRD_RCPNT_PRFL_SPLMTL_P01302025_01212025.csv</td><td>357419225</td><td>1742661658000</td></tr><tr><td>dbfs:/FileStore/tables/OP_DTL_RSRCH_PGYR2023_P01302025_01212025.csv</td><td>OP_DTL_RSRCH_PGYR2023_P01302025_01212025.csv</td><td>992593986</td><td>1742750329000</td></tr><tr><td>dbfs:/FileStore/tables/PGYR2023_P01302025_01212025-1.zip</td><td>PGYR2023_P01302025_01212025-1.zip</td><td>789005271</td><td>1742755857000</td></tr><tr><td>dbfs:/FileStore/tables/PGYR2023_P01302025_01212025-2.zip</td><td>PGYR2023_P01302025_01212025-2.zip</td><td>789005271</td><td>1742765254000</td></tr><tr><td>dbfs:/FileStore/tables/PGYR2023_P01302025_01212025-3.zip</td><td>PGYR2023_P01302025_01212025-3.zip</td><td>789005271</td><td>1742765764000</td></tr><tr><td>dbfs:/FileStore/tables/PGYR2023_P01302025_01212025-4.zip</td><td>PGYR2023_P01302025_01212025-4.zip</td><td>789005271</td><td>1742769088000</td></tr><tr><td>dbfs:/FileStore/tables/PGYR2023_P01302025_01212025-5.zip</td><td>PGYR2023_P01302025_01212025-5.zip</td><td>789005271</td><td>1742779113000</td></tr><tr><td>dbfs:/FileStore/tables/PGYR2023_P01302025_01212025-6.zip</td><td>PGYR2023_P01302025_01212025-6.zip</td><td>789005271</td><td>1742780516000</td></tr><tr><td>dbfs:/FileStore/tables/PGYR2023_P01302025_01212025.zip</td><td>PGYR2023_P01302025_01212025.zip</td><td>789005271</td><td>1742749660000</td></tr><tr><td>dbfs:/FileStore/tables/PHPRFL_P01302025_01212025-1.zip</td><td>PHPRFL_P01302025_01212025-1.zip</td><td>82966770</td><td>1742755894000</td></tr><tr><td>dbfs:/FileStore/tables/PHPRFL_P01302025_01212025-2.zip</td><td>PHPRFL_P01302025_01212025-2.zip</td><td>82966770</td><td>1742763325000</td></tr><tr><td>dbfs:/FileStore/tables/PHPRFL_P01302025_01212025-3.zip</td><td>PHPRFL_P01302025_01212025-3.zip</td><td>82966770</td><td>1742765413000</td></tr><tr><td>dbfs:/FileStore/tables/PHPRFL_P01302025_01212025-4.zip</td><td>PHPRFL_P01302025_01212025-4.zip</td><td>82966770</td><td>1742768819000</td></tr><tr><td>dbfs:/FileStore/tables/PHPRFL_P01302025_01212025-5.zip</td><td>PHPRFL_P01302025_01212025-5.zip</td><td>82966770</td><td>1742778834000</td></tr><tr><td>dbfs:/FileStore/tables/PHPRFL_P01302025_01212025-6.zip</td><td>PHPRFL_P01302025_01212025-6.zip</td><td>82966770</td><td>1742780149000</td></tr><tr><td>dbfs:/FileStore/tables/PHPRFL_P01302025_01212025.zip</td><td>PHPRFL_P01302025_01212025.zip</td><td>82966770</td><td>1742747673000</td></tr><tr><td>dbfs:/FileStore/tables/Week_07__Spark_Application.html</td><td>Week_07__Spark_Application.html</td><td>223214</td><td>1742780091000</td></tr></tbody></table></div>"
      ]
     },
     "metadata": {
      "application/vnd.databricks.v1+output": {
       "addedWidgets": {},
       "aggData": [],
       "aggError": "",
       "aggOverflow": false,
       "aggSchema": [],
       "aggSeriesLimitReached": false,
       "aggType": "",
       "arguments": {},
       "columnCustomDisplayInfos": {},
       "data": [
        [
         "dbfs:/FileStore/tables/OP_CVRD_RCPNT_PRFL_SPLMTL_P01302025_01212025-1.csv",
         "OP_CVRD_RCPNT_PRFL_SPLMTL_P01302025_01212025-1.csv",
         357419225,
         1742748308000
        ],
        [
         "dbfs:/FileStore/tables/OP_CVRD_RCPNT_PRFL_SPLMTL_P01302025_01212025.csv",
         "OP_CVRD_RCPNT_PRFL_SPLMTL_P01302025_01212025.csv",
         357419225,
         1742661658000
        ],
        [
         "dbfs:/FileStore/tables/OP_DTL_RSRCH_PGYR2023_P01302025_01212025.csv",
         "OP_DTL_RSRCH_PGYR2023_P01302025_01212025.csv",
         992593986,
         1742750329000
        ],
        [
         "dbfs:/FileStore/tables/PGYR2023_P01302025_01212025-1.zip",
         "PGYR2023_P01302025_01212025-1.zip",
         789005271,
         1742755857000
        ],
        [
         "dbfs:/FileStore/tables/PGYR2023_P01302025_01212025-2.zip",
         "PGYR2023_P01302025_01212025-2.zip",
         789005271,
         1742765254000
        ],
        [
         "dbfs:/FileStore/tables/PGYR2023_P01302025_01212025-3.zip",
         "PGYR2023_P01302025_01212025-3.zip",
         789005271,
         1742765764000
        ],
        [
         "dbfs:/FileStore/tables/PGYR2023_P01302025_01212025-4.zip",
         "PGYR2023_P01302025_01212025-4.zip",
         789005271,
         1742769088000
        ],
        [
         "dbfs:/FileStore/tables/PGYR2023_P01302025_01212025-5.zip",
         "PGYR2023_P01302025_01212025-5.zip",
         789005271,
         1742779113000
        ],
        [
         "dbfs:/FileStore/tables/PGYR2023_P01302025_01212025-6.zip",
         "PGYR2023_P01302025_01212025-6.zip",
         789005271,
         1742780516000
        ],
        [
         "dbfs:/FileStore/tables/PGYR2023_P01302025_01212025.zip",
         "PGYR2023_P01302025_01212025.zip",
         789005271,
         1742749660000
        ],
        [
         "dbfs:/FileStore/tables/PHPRFL_P01302025_01212025-1.zip",
         "PHPRFL_P01302025_01212025-1.zip",
         82966770,
         1742755894000
        ],
        [
         "dbfs:/FileStore/tables/PHPRFL_P01302025_01212025-2.zip",
         "PHPRFL_P01302025_01212025-2.zip",
         82966770,
         1742763325000
        ],
        [
         "dbfs:/FileStore/tables/PHPRFL_P01302025_01212025-3.zip",
         "PHPRFL_P01302025_01212025-3.zip",
         82966770,
         1742765413000
        ],
        [
         "dbfs:/FileStore/tables/PHPRFL_P01302025_01212025-4.zip",
         "PHPRFL_P01302025_01212025-4.zip",
         82966770,
         1742768819000
        ],
        [
         "dbfs:/FileStore/tables/PHPRFL_P01302025_01212025-5.zip",
         "PHPRFL_P01302025_01212025-5.zip",
         82966770,
         1742778834000
        ],
        [
         "dbfs:/FileStore/tables/PHPRFL_P01302025_01212025-6.zip",
         "PHPRFL_P01302025_01212025-6.zip",
         82966770,
         1742780149000
        ],
        [
         "dbfs:/FileStore/tables/PHPRFL_P01302025_01212025.zip",
         "PHPRFL_P01302025_01212025.zip",
         82966770,
         1742747673000
        ],
        [
         "dbfs:/FileStore/tables/Week_07__Spark_Application.html",
         "Week_07__Spark_Application.html",
         223214,
         1742780091000
        ]
       ],
       "datasetInfos": [],
       "dbfsResultPath": null,
       "isJsonSchema": true,
       "metadata": {},
       "overflow": false,
       "plotOptions": {
        "customPlotOptions": {},
        "displayType": "table",
        "pivotAggregation": null,
        "pivotColumns": null,
        "xColumns": null,
        "yColumns": null
       },
       "removedWidgets": [],
       "schema": [
        {
         "metadata": "{}",
         "name": "path",
         "type": "\"string\""
        },
        {
         "metadata": "{}",
         "name": "name",
         "type": "\"string\""
        },
        {
         "metadata": "{}",
         "name": "size",
         "type": "\"long\""
        },
        {
         "metadata": "{}",
         "name": "modificationTime",
         "type": "\"long\""
        }
       ],
       "type": "table"
      }
     },
     "output_type": "display_data"
    }
   ],
   "source": [
    "#List Uploaded Files with dbutils\n",
    "display(dbutils.fs.ls(\"FileStore/tables/\"))"
   ]
  },
  {
   "cell_type": "code",
   "execution_count": 0,
   "metadata": {
    "application/vnd.databricks.v1+cell": {
     "cellMetadata": {
      "byteLimit": 2048000,
      "rowLimit": 10000
     },
     "inputWidgets": {},
     "nuid": "55f0a507-1aec-40a0-bcf6-8f1e98aafa26",
     "showTitle": false,
     "tableResultSettingsMap": {},
     "title": ""
    }
   },
   "outputs": [
    {
     "output_type": "stream",
     "name": "stdout",
     "output_type": "stream",
     "text": [
      "Out[2]: True"
     ]
    }
   ],
   "source": [
    "# Copy the uploaded ZIP files from FileStore to /tmp/\n",
    "dbutils.fs.cp(\"dbfs:/FileStore/tables/PGYR2023_P01302025_01212025-3.zip\", \"file:/tmp/general.zip\")\n",
    "dbutils.fs.cp(\"dbfs:/FileStore/tables/PHPRFL_P01302025_01212025-3.zip\", \"file:/tmp/recipient.zip\")"
   ]
  },
  {
   "cell_type": "code",
   "execution_count": 0,
   "metadata": {
    "application/vnd.databricks.v1+cell": {
     "cellMetadata": {
      "byteLimit": 2048000,
      "rowLimit": 10000
     },
     "inputWidgets": {},
     "nuid": "8bf61cdc-75d0-47d2-9205-920f330cbb2b",
     "showTitle": false,
     "tableResultSettingsMap": {},
     "title": ""
    }
   },
   "outputs": [],
   "source": [
    "#Extract the ZIP files from /tmp/\n",
    "import zipfile\n",
    "\n",
    "# Extract general payments data\n",
    "with zipfile.ZipFile(\"/tmp/general.zip\", 'r') as zip_ref:\n",
    "    zip_ref.extractall(\"/tmp/openpayments_general\")\n",
    "\n",
    "# Extract recipient profiles data\n",
    "with zipfile.ZipFile(\"/tmp/recipient.zip\", 'r') as zip_ref:\n",
    "    zip_ref.extractall(\"/tmp/openpayments_recipient\")"
   ]
  },
  {
   "cell_type": "code",
   "execution_count": 0,
   "metadata": {
    "application/vnd.databricks.v1+cell": {
     "cellMetadata": {
      "byteLimit": 2048000,
      "rowLimit": 10000
     },
     "inputWidgets": {},
     "nuid": "71a4ce00-1d44-41e5-bcad-30311d0f1961",
     "showTitle": false,
     "tableResultSettingsMap": {},
     "title": ""
    }
   },
   "outputs": [
    {
     "output_type": "stream",
     "name": "stdout",
     "output_type": "stream",
     "text": [
      "General Payment Files:\n['OP_REMOVED_DELETED_PGYR2023_P01302025_01212025.csv', 'OP_DTL_GNRL_PGYR2023_P01302025_01212025.csv', 'OP_PGYR2023_README_P01302025.txt', 'OP_DTL_OWNRSHP_PGYR2023_P01302025_01212025.csv', 'OP_DTL_RSRCH_PGYR2023_P01302025_01212025.csv']\nRecipient Files:\n['OP_CVRD_RCPNT_PRFL_SPLMTL_P01302025_01212025.csv', 'OP_CVRD_RCPNT_PRFL_SPLMTL_README_P01302025.txt']\n"
     ]
    }
   ],
   "source": [
    "#Confirm the CSV files were extracted\n",
    "import os\n",
    "\n",
    "print(\"General Payment Files:\")\n",
    "print(os.listdir(\"/tmp/openpayments_general\"))\n",
    "\n",
    "print(\"Recipient Files:\")\n",
    "print(os.listdir(\"/tmp/openpayments_recipient\"))"
   ]
  },
  {
   "cell_type": "code",
   "execution_count": 0,
   "metadata": {
    "application/vnd.databricks.v1+cell": {
     "cellMetadata": {
      "byteLimit": 2048000,
      "rowLimit": 10000
     },
     "inputWidgets": {},
     "nuid": "1265803a-1df9-49ff-b7b0-afacdf466ed6",
     "showTitle": false,
     "tableResultSettingsMap": {},
     "title": ""
    }
   },
   "outputs": [
    {
     "output_type": "stream",
     "name": "stdout",
     "output_type": "stream",
     "text": [
      "Out[5]: '/dbfs/FileStore/tables/recipient.csv'"
     ]
    }
   ],
   "source": [
    "import shutil\n",
    "import os\n",
    "\n",
    "# Make sure destination exists\n",
    "os.makedirs(\"/dbfs/FileStore/tables/\", exist_ok=True)\n",
    "\n",
    "# Copy general file to FileStore\n",
    "shutil.copy(\"/tmp/openpayments_general/OP_DTL_GNRL_PGYR2023_P01302025_01212025.csv\", \"/dbfs/FileStore/tables/general.csv\")\n",
    "\n",
    "# Copy recipient file\n",
    "shutil.copy(\"/tmp/openpayments_recipient/OP_CVRD_RCPNT_PRFL_SPLMTL_P01302025_01212025.csv\", \"/dbfs/FileStore/tables/recipient.csv\")"
   ]
  },
  {
   "cell_type": "code",
   "execution_count": 0,
   "metadata": {
    "application/vnd.databricks.v1+cell": {
     "cellMetadata": {
      "byteLimit": 2048000,
      "rowLimit": 10000
     },
     "inputWidgets": {},
     "nuid": "55b00f93-2161-449c-8329-80b8eef23f6e",
     "showTitle": false,
     "tableResultSettingsMap": {},
     "title": ""
    }
   },
   "outputs": [
    {
     "output_type": "stream",
     "name": "stdout",
     "output_type": "stream",
     "text": [
      "Files in /dbfs/FileStore/tables/:\n['recipient.csv', 'general.csv']\n"
     ]
    }
   ],
   "source": [
    "#dbfs file list\n",
    "import os\n",
    "\n",
    "print(\"Files in /dbfs/FileStore/tables/:\")\n",
    "print(os.listdir(\"/dbfs/FileStore/tables/\"))"
   ]
  },
  {
   "cell_type": "code",
   "execution_count": 0,
   "metadata": {
    "application/vnd.databricks.v1+cell": {
     "cellMetadata": {
      "byteLimit": 2048000,
      "rowLimit": 10000
     },
     "inputWidgets": {},
     "nuid": "8ca8d2d0-1d08-4710-8515-69e42b7484e3",
     "showTitle": false,
     "tableResultSettingsMap": {},
     "title": ""
    }
   },
   "outputs": [
    {
     "output_type": "stream",
     "name": "stdout",
     "output_type": "stream",
     "text": [
      "General Payments Preview:\n+-----------+----------------------+---------------------+--------------------+----------------------+----------------------------+---------------------+----------------------------+-----------------------------+---------------------------+-----------------------------+-----------------------------------------------+-----------------------------------------------+---------------+---------------+------------------+-----------------+------------------+---------------------+--------------------------------+--------------------------------+--------------------------------+--------------------------------+--------------------------------+--------------------------------+-----------------------------+-----------------------------+-----------------------------+-----------------------------+-----------------------------+-----------------------------+-------------------------------------+-------------------------------------+-------------------------------------+-------------------------------------+-------------------------------------+---------------------------------------------------------+-----------------------------------------------------------+-------------------------------------------------------------+--------------------------------------------------------------+----------------------------------------------------------------+---------------------------------+---------------+-------------------------------------------+------------------------------------+--------------------------------------+--------------+---------------+-----------------+-----------------------------+---------------------------------------+-----------------------------------------------------------------+-----------------+----------------------------------------------+----------------------+------------------------------+----------+------------------------------+-------------------------+---------------------------------+---------------------------------------------------------+--------------------------------------+--------------------------------------------------------+-----------------------------------+-----------------------------------------+---------------------------------+---------------------------------------------------------+--------------------------------------+--------------------------------------------------------+-----------------------------------+-----------------------------------------+---------------------------------+---------------------------------------------------------+--------------------------------------+--------------------------------------------------------+-----------------------------------+-----------------------------------------+---------------------------------+---------------------------------------------------------+--------------------------------------+--------------------------------------------------------+-----------------------------------+-----------------------------------------+---------------------------------+---------------------------------------------------------+--------------------------------------+--------------------------------------------------------+-----------------------------------+-----------------------------------------+------------+------------------------+\n|Change_Type|Covered_Recipient_Type|Teaching_Hospital_CCN|Teaching_Hospital_ID|Teaching_Hospital_Name|Covered_Recipient_Profile_ID|Covered_Recipient_NPI|Covered_Recipient_First_Name|Covered_Recipient_Middle_Name|Covered_Recipient_Last_Name|Covered_Recipient_Name_Suffix|Recipient_Primary_Business_Street_Address_Line1|Recipient_Primary_Business_Street_Address_Line2| Recipient_City|Recipient_State|Recipient_Zip_Code|Recipient_Country|Recipient_Province|Recipient_Postal_Code|Covered_Recipient_Primary_Type_1|Covered_Recipient_Primary_Type_2|Covered_Recipient_Primary_Type_3|Covered_Recipient_Primary_Type_4|Covered_Recipient_Primary_Type_5|Covered_Recipient_Primary_Type_6|Covered_Recipient_Specialty_1|Covered_Recipient_Specialty_2|Covered_Recipient_Specialty_3|Covered_Recipient_Specialty_4|Covered_Recipient_Specialty_5|Covered_Recipient_Specialty_6|Covered_Recipient_License_State_code1|Covered_Recipient_License_State_code2|Covered_Recipient_License_State_code3|Covered_Recipient_License_State_code4|Covered_Recipient_License_State_code5|Submitting_Applicable_Manufacturer_or_Applicable_GPO_Name|Applicable_Manufacturer_or_Applicable_GPO_Making_Payment_ID|Applicable_Manufacturer_or_Applicable_GPO_Making_Payment_Name|Applicable_Manufacturer_or_Applicable_GPO_Making_Payment_State|Applicable_Manufacturer_or_Applicable_GPO_Making_Payment_Country|Total_Amount_of_Payment_USDollars|Date_of_Payment|Number_of_Payments_Included_in_Total_Amount|Form_of_Payment_or_Transfer_of_Value|Nature_of_Payment_or_Transfer_of_Value|City_of_Travel|State_of_Travel|Country_of_Travel|Physician_Ownership_Indicator|Third_Party_Payment_Recipient_Indicator|Name_of_Third_Party_Entity_Receiving_Payment_or_Transfer_of_Value|Charity_Indicator|Third_Party_Equals_Covered_Recipient_Indicator|Contextual_Information|Delay_in_Publication_Indicator| Record_ID|Dispute_Status_for_Publication|Related_Product_Indicator|Covered_or_Noncovered_Indicator_1|Indicate_Drug_or_Biological_or_Device_or_Medical_Supply_1|Product_Category_or_Therapeutic_Area_1|Name_of_Drug_or_Biological_or_Device_or_Medical_Supply_1|Associated_Drug_or_Biological_NDC_1|Associated_Device_or_Medical_Supply_PDI_1|Covered_or_Noncovered_Indicator_2|Indicate_Drug_or_Biological_or_Device_or_Medical_Supply_2|Product_Category_or_Therapeutic_Area_2|Name_of_Drug_or_Biological_or_Device_or_Medical_Supply_2|Associated_Drug_or_Biological_NDC_2|Associated_Device_or_Medical_Supply_PDI_2|Covered_or_Noncovered_Indicator_3|Indicate_Drug_or_Biological_or_Device_or_Medical_Supply_3|Product_Category_or_Therapeutic_Area_3|Name_of_Drug_or_Biological_or_Device_or_Medical_Supply_3|Associated_Drug_or_Biological_NDC_3|Associated_Device_or_Medical_Supply_PDI_3|Covered_or_Noncovered_Indicator_4|Indicate_Drug_or_Biological_or_Device_or_Medical_Supply_4|Product_Category_or_Therapeutic_Area_4|Name_of_Drug_or_Biological_or_Device_or_Medical_Supply_4|Associated_Drug_or_Biological_NDC_4|Associated_Device_or_Medical_Supply_PDI_4|Covered_or_Noncovered_Indicator_5|Indicate_Drug_or_Biological_or_Device_or_Medical_Supply_5|Product_Category_or_Therapeutic_Area_5|Name_of_Drug_or_Biological_or_Device_or_Medical_Supply_5|Associated_Drug_or_Biological_NDC_5|Associated_Device_or_Medical_Supply_PDI_5|Program_Year|Payment_Publication_Date|\n+-----------+----------------------+---------------------+--------------------+----------------------+----------------------------+---------------------+----------------------------+-----------------------------+---------------------------+-----------------------------+-----------------------------------------------+-----------------------------------------------+---------------+---------------+------------------+-----------------+------------------+---------------------+--------------------------------+--------------------------------+--------------------------------+--------------------------------+--------------------------------+--------------------------------+-----------------------------+-----------------------------+-----------------------------+-----------------------------+-----------------------------+-----------------------------+-------------------------------------+-------------------------------------+-------------------------------------+-------------------------------------+-------------------------------------+---------------------------------------------------------+-----------------------------------------------------------+-------------------------------------------------------------+--------------------------------------------------------------+----------------------------------------------------------------+---------------------------------+---------------+-------------------------------------------+------------------------------------+--------------------------------------+--------------+---------------+-----------------+-----------------------------+---------------------------------------+-----------------------------------------------------------------+-----------------+----------------------------------------------+----------------------+------------------------------+----------+------------------------------+-------------------------+---------------------------------+---------------------------------------------------------+--------------------------------------+--------------------------------------------------------+-----------------------------------+-----------------------------------------+---------------------------------+---------------------------------------------------------+--------------------------------------+--------------------------------------------------------+-----------------------------------+-----------------------------------------+---------------------------------+---------------------------------------------------------+--------------------------------------+--------------------------------------------------------+-----------------------------------+-----------------------------------------+---------------------------------+---------------------------------------------------------+--------------------------------------+--------------------------------------------------------+-----------------------------------+-----------------------------------------+---------------------------------+---------------------------------------------------------+--------------------------------------+--------------------------------------------------------+-----------------------------------+-----------------------------------------+------------+------------------------+\n|    CHANGED|  Covered Recipient...|               220162|                9984|  Adventhealth Orlando|                        null|                 null|                        null|                         null|                       null|                         null|                               601 E Rollins St|                                           null|        Orlando|             FL|             32803|    United States|              null|                 null|                            null|                            null|                            null|                            null|                            null|                            null|                         null|                         null|                         null|                         null|                         null|                         null|                                 null|                                 null|                                 null|                                 null|                                 null|                                     Integra LifeScien...|                                               100000010950|                                         Integra LifeScien...|                                                            NJ|                                                   United States|                          2000.00|     07/20/2023|                                          1|                Cash or cash equi...|                                 Grant|          null|           null|             null|                           No|                   No Third Party Pa...|                                                             null|             null|                                          null|                  null|                            No|1031636873|                            No|                      Yes|                          Covered|                                                   Device|                   Neuro Critical Care|                                           CODMAN CERTAS|                               null|                           10381780529033|                             null|                                                     null|                                  null|                                                    null|                               null|                                     null|                             null|                                                     null|                                  null|                                                    null|                               null|                                     null|                             null|                                                     null|                                  null|                                                    null|                               null|                                     null|                             null|                                                     null|                                  null|                                                    null|                               null|                                     null|        2023|              01/30/2025|\n|    CHANGED|  Covered Recipient...|               220162|                9984|  Carle Foundation ...|                        null|                 null|                        null|                         null|                       null|                         null|                            2300 N Vermilion St|                                           null|       Danville|             IL|             61832|    United States|              null|                 null|                            null|                            null|                            null|                            null|                            null|                            null|                         null|                         null|                         null|                         null|                         null|                         null|                                 null|                                 null|                                 null|                                 null|                                 null|                                     Integra LifeScien...|                                               100000010950|                                         Integra LifeScien...|                                                            NJ|                                                   United States|                          1500.00|     11/03/2023|                                          1|                Cash or cash equi...|                                 Grant|          null|           null|             null|                           No|                   No Third Party Pa...|                                                             null|             null|                                          null|                  null|                            No|1031636879|                            No|                      Yes|                          Covered|                                                   Device|                   Neuro Critical Care|                                           CODMAN CERTAS|                               null|                           10381780529033|                             null|                                                     null|                                  null|                                                    null|                               null|                                     null|                             null|                                                     null|                                  null|                                                    null|                               null|                                     null|                             null|                                                     null|                                  null|                                                    null|                               null|                                     null|                             null|                                                     null|                                  null|                                                    null|                               null|                                     null|        2023|              01/30/2025|\n|    CHANGED|  Covered Recipient...|               220162|                9984|  St. Josephs Hospi...|                        null|                 null|                        null|                         null|                       null|                         null|                           4975 N Dysart Rd ...|                                           null|Litchfield Park|             AZ|             85340|    United States|              null|                 null|                            null|                            null|                            null|                            null|                            null|                            null|                         null|                         null|                         null|                         null|                         null|                         null|                                 null|                                 null|                                 null|                                 null|                                 null|                                     Integra LifeScien...|                                               100000010950|                                         Integra LifeScien...|                                                            NJ|                                                   United States|                          2500.00|     03/21/2023|                                          1|                Cash or cash equi...|                                 Grant|          null|           null|             null|                           No|                   No Third Party Pa...|                                                             null|             null|                                          null|                  null|                            No|1031636885|                            No|                      Yes|                          Covered|                                                   Device|                   Neuro Critical Care|                                           CODMAN CERTAS|                               null|                           10381780529033|                             null|                                                     null|                                  null|                                                    null|                               null|                                     null|                             null|                                                     null|                                  null|                                                    null|                               null|                                     null|                             null|                                                     null|                                  null|                                                    null|                               null|                                     null|                             null|                                                     null|                                  null|                                                    null|                               null|                                     null|        2023|              01/30/2025|\n|    CHANGED|  Covered Recipient...|               220162|                9984|  St. Josephs Hospi...|                        null|                 null|                        null|                         null|                       null|                         null|                           4975 N Dysart Rd ...|                                           null|Litchfield Park|             AZ|             85340|    United States|              null|                 null|                            null|                            null|                            null|                            null|                            null|                            null|                         null|                         null|                         null|                         null|                         null|                         null|                                 null|                                 null|                                 null|                                 null|                                 null|                                     Integra LifeScien...|                                               100000010950|                                         Integra LifeScien...|                                                            NJ|                                                   United States|                          3000.00|     04/14/2023|                                          1|                Cash or cash equi...|                                 Grant|          null|           null|             null|                           No|                   No Third Party Pa...|                                                             null|             null|                                          null|                  null|                            No|1031636889|                            No|                      Yes|                          Covered|                                                   Device|                   Neuro Critical Care|                                           CODMAN CERTAS|                               null|                           10381780529033|                             null|                                                     null|                                  null|                                                    null|                               null|                                     null|                             null|                                                     null|                                  null|                                                    null|                               null|                                     null|                             null|                                                     null|                                  null|                                                    null|                               null|                                     null|                             null|                                                     null|                                  null|                                                    null|                               null|                                     null|        2023|              01/30/2025|\n|    CHANGED|  Covered Recipient...|               220162|                9984|  Uc Davis Medical ...|                        null|                 null|                        null|                         null|                       null|                         null|                             2315 Stockton Blvd|                                           null|     Sacramento|             CA|             95817|    United States|              null|                 null|                            null|                            null|                            null|                            null|                            null|                            null|                         null|                         null|                         null|                         null|                         null|                         null|                                 null|                                 null|                                 null|                                 null|                                 null|                                     Integra LifeScien...|                                               100000010950|                                         Integra LifeScien...|                                                            NJ|                                                   United States|                          3921.61|     04/30/2023|                                          1|                Cash or cash equi...|                             Honoraria|          null|           null|             null|                           No|                   No Third Party Pa...|                                                             null|             null|                                          null|                  null|                            No|1031636896|                            No|                      Yes|                          Covered|                                                   Device|                   Neuro Critical Care|                                           CODMAN CERTAS|                               null|                           10381780529033|                          Covered|                                                   Device|                   Neuro Critical Care|                                            CUSA CLARITY|                               null|                           10381780126232|                             null|                                                     null|                                  null|                                                    null|                               null|                                     null|                             null|                                                     null|                                  null|                                                    null|                               null|                                     null|                             null|                                                     null|                                  null|                                                    null|                               null|                                     null|        2023|              01/30/2025|\n+-----------+----------------------+---------------------+--------------------+----------------------+----------------------------+---------------------+----------------------------+-----------------------------+---------------------------+-----------------------------+-----------------------------------------------+-----------------------------------------------+---------------+---------------+------------------+-----------------+------------------+---------------------+--------------------------------+--------------------------------+--------------------------------+--------------------------------+--------------------------------+--------------------------------+-----------------------------+-----------------------------+-----------------------------+-----------------------------+-----------------------------+-----------------------------+-------------------------------------+-------------------------------------+-------------------------------------+-------------------------------------+-------------------------------------+---------------------------------------------------------+-----------------------------------------------------------+-------------------------------------------------------------+--------------------------------------------------------------+----------------------------------------------------------------+---------------------------------+---------------+-------------------------------------------+------------------------------------+--------------------------------------+--------------+---------------+-----------------+-----------------------------+---------------------------------------+-----------------------------------------------------------------+-----------------+----------------------------------------------+----------------------+------------------------------+----------+------------------------------+-------------------------+---------------------------------+---------------------------------------------------------+--------------------------------------+--------------------------------------------------------+-----------------------------------+-----------------------------------------+---------------------------------+---------------------------------------------------------+--------------------------------------+--------------------------------------------------------+-----------------------------------+-----------------------------------------+---------------------------------+---------------------------------------------------------+--------------------------------------+--------------------------------------------------------+-----------------------------------+-----------------------------------------+---------------------------------+---------------------------------------------------------+--------------------------------------+--------------------------------------------------------+-----------------------------------+-----------------------------------------+---------------------------------+---------------------------------------------------------+--------------------------------------+--------------------------------------------------------+-----------------------------------+-----------------------------------------+------------+------------------------+\nonly showing top 5 rows\n\nRecipient Profiles Preview:\n+------------------------------+----------------------------+-----------------------------------------+-----------------------------------------+---------------------+------------------------------------+-------------------------------------+-----------------------------------+--------------------------------+----------------------------------------------+-----------------------------------------------+---------------------------------------------+------------------------------------------+----------------------------------------+----------------------------------------+------------------------------+-------------------------------+---------------------------------+--------------------------------------+---------------------------------------+-------------------------------------------+----------------------------------------+----------------------------------------+----------------------------------------+----------------------------------------+----------------------------------------+----------------------------------------+----------------------------------------------+----------------------------------------------+----------------------------------------------+----------------------------------------------+----------------------------------------------+\n|Covered_Recipient_Profile_Type|Covered_Recipient_Profile_ID|Associated_Covered_Recipient_Profile_ID_1|Associated_Covered_Recipient_Profile_ID_2|Covered_Recipient_NPI|Covered_Recipient_Profile_First_Name|Covered_Recipient_Profile_Middle_Name|Covered_Recipient_Profile_Last_Name|Covered_Recipient_Profile_Suffix|Covered_Recipient_Profile_Alternate_First_Name|Covered_Recipient_Profile_Alternate_Middle_Name|Covered_Recipient_Profile_Alternate_Last_Name|Covered_Recipient_Profile_Alternate_Suffix|Covered_Recipient_Profile_Address_Line_1|Covered_Recipient_Profile_Address_Line_2|Covered_Recipient_Profile_City|Covered_Recipient_Profile_State|Covered_Recipient_Profile_Zipcode|Covered_Recipient_Profile_Country_Name|Covered_Recipient_Profile_Province_Name|Covered_Recipient_Profile_Primary_Specialty|Covered_Recipient_Profile_OPS_Taxonomy_1|Covered_Recipient_Profile_OPS_Taxonomy_2|Covered_Recipient_Profile_OPS_Taxonomy_3|Covered_Recipient_Profile_OPS_Taxonomy_4|Covered_Recipient_Profile_OPS_Taxonomy_5|Covered_Recipient_Profile_OPS_Taxonomy_6|Covered_Recipient_Profile_License_State_Code_1|Covered_Recipient_Profile_License_State_Code_2|Covered_Recipient_Profile_License_State_Code_3|Covered_Recipient_Profile_License_State_Code_4|Covered_Recipient_Profile_License_State_Code_5|\n+------------------------------+----------------------------+-----------------------------------------+-----------------------------------------+---------------------+------------------------------------+-------------------------------------+-----------------------------------+--------------------------------+----------------------------------------------+-----------------------------------------------+---------------------------------------------+------------------------------------------+----------------------------------------+----------------------------------------+------------------------------+-------------------------------+---------------------------------+--------------------------------------+---------------------------------------+-------------------------------------------+----------------------------------------+----------------------------------------+----------------------------------------+----------------------------------------+----------------------------------------+----------------------------------------+----------------------------------------------+----------------------------------------------+----------------------------------------------+----------------------------------------------+----------------------------------------------+\n|          Covered Recipient...|                           1|                                     null|                                     null|           1003020595|                               BARRY|                                    D|                            SIMMONS|                            null|                                        BARRON|                                          DAVID|                                      SIMMONS|                                      null|                    847 SOUTH MILLEDG...|                                    null|                        ATHENS|                             GA|                       30605-1331|                         UNITED STATES|                                   null|                       Dental Providers|...|                              1223G0001X|                                    null|                                    null|                                    null|                                    null|                                    null|                                            GA|                                          null|                                          null|                                          null|                                          null|\n|          Covered Recipient...|                           2|                                     null|                                     null|           1003022823|                             LINDSEY|                                    R|                           SCHUSTER|                            null|                                       LINDSEY|                                              R|                                       GROBER|                                      null|                             15 HEIDI LN|                                    null|                   MOUNT SINAI|                             NY|                       11766-1428|                         UNITED STATES|                                   null|                       Allopathic & Oste...|                              207P00000X|                                    null|                                    null|                                    null|                                    null|                                    null|                                            NY|                                            PA|                                          null|                                          null|                                          null|\n|          Covered Recipient...|                           3|                                     null|                                     null|           1003023359|                              JUSTIN|                                    H|                            RACKLEY|                            null|                                        JUSTIN|                                         HAMWAY|                                      RACKLEY|                                      null|                     1001 SAM PERRY BLVD|                                    null|                FREDERICKSBURG|                             VA|                       22401-4453|                         UNITED STATES|                                   null|                       Allopathic & Oste...|                              207L00000X|                                    null|                                    null|                                    null|                                    null|                                    null|                                            VA|                                            OH|                                          null|                                          null|                                          null|\n|          Covered Recipient...|                           4|                                     null|                                     null|           1003024811|                                LISA|                                    L|                            HAMAKER|                            null|                                          null|                                           null|                                         null|                                      null|                    100 MARKET ST STE...|                                    null|                  COLLEGEVILLE|                             PA|                       19426-4927|                         UNITED STATES|                                   null|                       Allopathic & Oste...|                              207RE0101X|                                    null|                                    null|                                    null|                                    null|                                    null|                                            PA|                                          null|                                          null|                                          null|                                          null|\n|          Covered Recipient...|                           5|                                     null|                                     null|           1003025875|                             PATRICK|                                    E|                              DAVOL|                            null|                                       PATRICK|                                           ERIN|                                        DAVOL|                                      null|                    1698 E MCANDREWS ...|                                    null|                       MEDFORD|                             OR|                       97504-5590|                         UNITED STATES|                                   null|                       Allopathic & Oste...|                              208800000X|                                    null|                                    null|                                    null|                                    null|                                    null|                                            OR|                                            IN|                                          null|                                          null|                                          null|\n+------------------------------+----------------------------+-----------------------------------------+-----------------------------------------+---------------------+------------------------------------+-------------------------------------+-----------------------------------+--------------------------------+----------------------------------------------+-----------------------------------------------+---------------------------------------------+------------------------------------------+----------------------------------------+----------------------------------------+------------------------------+-------------------------------+---------------------------------+--------------------------------------+---------------------------------------+-------------------------------------------+----------------------------------------+----------------------------------------+----------------------------------------+----------------------------------------+----------------------------------------+----------------------------------------+----------------------------------------------+----------------------------------------------+----------------------------------------------+----------------------------------------------+----------------------------------------------+\nonly showing top 5 rows\n\n"
     ]
    }
   ],
   "source": [
    " # Load files using 'file'\n",
    "general_df = spark.read.csv(\"file:/dbfs/FileStore/tables/general.csv\", header=True, inferSchema=True)\n",
    "recipient_df = spark.read.csv(\"file:/dbfs/FileStore/tables/recipient.csv\", header=True, inferSchema=True)\n",
    "\n",
    "# Show previews\n",
    "print(\"General Payments Preview:\")\n",
    "general_df.show(5)\n",
    "\n",
    "print(\"Recipient Profiles Preview:\")\n",
    "recipient_df.show(5)"
   ]
  },
  {
   "cell_type": "code",
   "execution_count": 0,
   "metadata": {
    "application/vnd.databricks.v1+cell": {
     "cellMetadata": {
      "byteLimit": 2048000,
      "rowLimit": 10000
     },
     "inputWidgets": {},
     "nuid": "e96a82ca-fbdf-4c0a-ae06-496b007f0003",
     "showTitle": false,
     "tableResultSettingsMap": {},
     "title": ""
    }
   },
   "outputs": [
    {
     "output_type": "stream",
     "name": "stdout",
     "output_type": "stream",
     "text": [
      "Nature of Payments with reimbursement > $1,000 (ordered by count):\n+--------------------------------------+------+\n|Nature_of_Payment_or_Transfer_of_Value| count|\n+--------------------------------------+------+\n|                  Compensation for ...|164092|\n|                        Consulting Fee|105228|\n|                    Travel and Lodging| 24738|\n|                             Honoraria| 13750|\n|                             Education| 13376|\n|                    Royalty or License| 11534|\n|                  Compensation for ...|  8658|\n|                                 Grant|  4922|\n|                  Space rental or f...|  4917|\n|                  Long term medical...|  2930|\n+--------------------------------------+------+\nonly showing top 10 rows\n\n"
     ]
    }
   ],
   "source": [
    "from pyspark.sql import SparkSession\n",
    "from pyspark.sql import functions as F\n",
    "\n",
    "# Ensure Spark session is created (if not already running)\n",
    "spark = SparkSession.builder.appName(\"OpenPaymentsAnalysis\").getOrCreate()\n",
    "\n",
    "# 1. Nature of Payments with reimbursement amounts greater than $1,000 ordered by count\n",
    "nature_high_reimb = (\n",
    "    general_df.filter(F.col(\"Total_Amount_of_Payment_USDollars\") > 1000)\n",
    "    .groupby(\"Nature_of_Payment_or_Transfer_of_Value\")\n",
    "    .agg(F.count(\"*\").alias(\"count\"))\n",
    "    .orderBy(F.col(\"count\").desc())\n",
    ")\n",
    "\n",
    "print(\"Nature of Payments with reimbursement > $1,000 (ordered by count):\")\n",
    "nature_high_reimb.show(10)\n"
   ]
  },
  {
   "cell_type": "code",
   "execution_count": 0,
   "metadata": {
    "application/vnd.databricks.v1+cell": {
     "cellMetadata": {
      "byteLimit": 2048000,
      "rowLimit": 10000
     },
     "inputWidgets": {},
     "nuid": "30f71371-3659-415f-9e2c-0fdffa6f2bf1",
     "showTitle": false,
     "tableResultSettingsMap": {},
     "title": ""
    }
   },
   "outputs": [
    {
     "output_type": "stream",
     "name": "stdout",
     "output_type": "stream",
     "text": [
      "Top 10 Nature of Payments by count:\n+--------------------------------------+--------+\n|Nature_of_Payment_or_Transfer_of_Value|   count|\n+--------------------------------------+--------+\n|                     Food and Beverage|13378464|\n|                    Travel and Lodging|  545086|\n|                  Compensation for ...|  236628|\n|                        Consulting Fee|  170630|\n|                             Education|  161078|\n|                                  Gift|   31786|\n|                             Honoraria|   20232|\n|                    Royalty or License|   15865|\n|                  Compensation for ...|   12234|\n|                         Entertainment|    7967|\n+--------------------------------------+--------+\n\n"
     ]
    }
   ],
   "source": [
    "#2. Top ten Nature of Payments by count\n",
    "top_nature_by_count = (\n",
    "    general_df.groupby(\"Nature_of_Payment_or_Transfer_of_Value\")\n",
    "    .count()\n",
    "    .orderBy(F.col(\"count\").desc())\n",
    "    .limit(10)\n",
    ")\n",
    "\n",
    "print(\"Top 10 Nature of Payments by count:\")\n",
    "top_nature_by_count.show(10)"
   ]
  },
  {
   "cell_type": "code",
   "execution_count": 0,
   "metadata": {
    "application/vnd.databricks.v1+cell": {
     "cellMetadata": {
      "byteLimit": 2048000,
      "rowLimit": 10000
     },
     "inputWidgets": {},
     "nuid": "4322ca31-fb1a-46eb-bb5a-35c68b61c42f",
     "showTitle": false,
     "tableResultSettingsMap": {},
     "title": ""
    }
   },
   "outputs": [
    {
     "output_type": "stream",
     "name": "stdout",
     "output_type": "stream",
     "text": [
      "Top 10 Nature of Payments by total amount:\n+--------------------------------------+--------------------+\n|Nature_of_Payment_or_Transfer_of_Value|       Total_Payment|\n+--------------------------------------+--------------------+\n|                    Royalty or License|     1.19217456302E9|\n|                  Compensation for ...| 5.946326876500002E8|\n|                        Consulting Fee| 5.148558758999996E8|\n|                     Food and Beverage| 3.744878240099897E8|\n|                    Travel and Lodging|1.7954842378000867E8|\n|                                 Grant|      1.1188856182E8|\n|                          Acquisitions| 7.192577675999999E7|\n|                             Education| 6.469532594000257E7|\n|                             Honoraria| 5.585182388999997E7|\n|                  Long term medical...|       3.009879195E7|\n+--------------------------------------+--------------------+\n\n"
     ]
    }
   ],
   "source": [
    "#3. Top ten Nature of Payments by total amount\n",
    "top_nature_by_total = (\n",
    "    general_df.groupby(\"Nature_of_Payment_or_Transfer_of_Value\")\n",
    "    .agg(F.sum(\"Total_Amount_of_Payment_USDollars\").alias(\"Total_Payment\"))\n",
    "    .orderBy(F.col(\"Total_Payment\").desc())\n",
    "    .limit(10)\n",
    ")\n",
    "\n",
    "print(\"Top 10 Nature of Payments by total amount:\")\n",
    "top_nature_by_total.show(10)"
   ]
  },
  {
   "cell_type": "code",
   "execution_count": 0,
   "metadata": {
    "application/vnd.databricks.v1+cell": {
     "cellMetadata": {
      "byteLimit": 2048000,
      "rowLimit": 10000
     },
     "inputWidgets": {},
     "nuid": "0ac93906-8820-41ca-aaa4-3b9080522dff",
     "showTitle": false,
     "tableResultSettingsMap": {},
     "title": ""
    }
   },
   "outputs": [
    {
     "output_type": "stream",
     "name": "stdout",
     "output_type": "stream",
     "text": [
      "Top 10 Physician Specialties by Total Amount:\n+-------------------------------------------+--------------------+\n|Covered_Recipient_Profile_Primary_Specialty|       Total_Payment|\n+-------------------------------------------+--------------------+\n|                                       null| 8.712047840900062E8|\n|                       Allopathic & Oste...|3.7775549672999775E8|\n|                       Allopathic & Oste...| 8.680715036999996E7|\n|                       Allopathic & Oste...| 8.587046903000017E7|\n|                       Allopathic & Oste...| 8.076589144000049E7|\n|                       Allopathic & Oste...| 7.277526617999996E7|\n|                       Allopathic & Oste...| 6.576093498000079E7|\n|                       Allopathic & Oste...| 6.569819551000166E7|\n|                       Allopathic & Oste...|6.5481500610000595E7|\n|                       Allopathic & Oste...| 6.305718157000022E7|\n+-------------------------------------------+--------------------+\n\n"
     ]
    }
   ],
   "source": [
    "# 4. Top ten physician specialties by total amount\n",
    "top_specialties_by_total = (\n",
    "    general_df.join(\n",
    "        recipient_df,\n",
    "        general_df[\"Covered_Recipient_NPI\"] == recipient_df[\"Covered_Recipient_NPI\"],\n",
    "        \"left\"\n",
    "    )\n",
    "    .groupby(\"Covered_Recipient_Profile_Primary_Specialty\")\n",
    "    .agg(F.sum(\"Total_Amount_of_Payment_USDollars\").alias(\"Total_Payment\"))\n",
    "    .orderBy(F.col(\"Total_Payment\").desc())\n",
    "    .limit(10)\n",
    ")\n",
    "\n",
    "print(\"Top 10 Physician Specialties by Total Amount:\")\n",
    "top_specialties_by_total.show(10)"
   ]
  },
  {
   "cell_type": "code",
   "execution_count": 0,
   "metadata": {
    "application/vnd.databricks.v1+cell": {
     "cellMetadata": {
      "byteLimit": 2048000,
      "rowLimit": 10000
     },
     "inputWidgets": {},
     "nuid": "76de2994-d43a-4f8c-b91b-e92f76a7a727",
     "showTitle": false,
     "tableResultSettingsMap": {},
     "title": ""
    }
   },
   "outputs": [
    {
     "output_type": "stream",
     "name": "stdout",
     "output_type": "stream",
     "text": [
      "Top 10 Physicians by Total Amount:\n+----------------------------+---------------------------+-------------------+\n|Covered_Recipient_First_Name|Covered_Recipient_Last_Name|      Total_Payment|\n+----------------------------+---------------------------+-------------------+\n|                        null|                       null|7.933900857900002E8|\n|                     STEPHEN|                   BURKHART|      3.392202493E7|\n|                     WILLIAM|                     BINDER|      2.943437497E7|\n|                       KEVIN|                      FOLEY|       1.73059378E7|\n|                        IVAN|                     OSORIO|      1.606551551E7|\n|                      GEORGE|                    MAXWELL|      1.160032024E7|\n|                      ROBERT|                      BOOTH|         8459167.19|\n|                        NEAL|                 ELATTRACHE|          7810628.2|\n|                       AARON|                  ROSENBERG|  6883627.290000001|\n|                       ROGER|                    JACKSON|         6615711.26|\n+----------------------------+---------------------------+-------------------+\n\n"
     ]
    }
   ],
   "source": [
    "# 5. Top ten physicians by total amount\n",
    "top_physicians_by_total = (\n",
    "    general_df.groupby(\"Covered_Recipient_First_Name\", \"Covered_Recipient_Last_Name\")\n",
    "    .agg(F.sum(\"Total_Amount_of_Payment_USDollars\").alias(\"Total_Payment\"))\n",
    "    .orderBy(F.col(\"Total_Payment\").desc())\n",
    "    .limit(10)\n",
    ")\n",
    "\n",
    "print(\"Top 10 Physicians by Total Amount:\")\n",
    "top_physicians_by_total.show(10)"
   ]
  }
 ],
 "metadata": {
  "application/vnd.databricks.v1+notebook": {
   "computePreferences": null,
   "dashboards": [],
   "environmentMetadata": null,
   "language": "python",
   "notebookMetadata": {
    "pythonIndentUnit": 4
   },
   "notebookName": "week-7 SPARK APPLICATION",
   "widgets": {}
  }
 },
 "nbformat": 4,
 "nbformat_minor": 0
}
