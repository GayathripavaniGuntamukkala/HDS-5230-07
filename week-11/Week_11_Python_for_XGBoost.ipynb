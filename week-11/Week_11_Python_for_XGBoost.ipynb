{
  "cells": [
    {
      "cell_type": "code",
      "source": [
        "!pip install pyreadr\n",
        "#Import Datasets\n",
        "import pandas as pd\n",
        "import xgboost as xgb\n",
        "from sklearn.model_selection import cross_val_score, KFold\n",
        "import time\n",
        "import numpy as np\n",
        "import pyreadr  # Needed to read RDS files\n",
        "\n",
        "\n",
        "# Config\n",
        "sizes = [100, 1000, 10000, 100000, 1000000, 10000000]\n",
        "cols_x = ['pregnant', 'glucose', 'pressure', 'triceps', 'insulin', 'mass', 'pedigree', 'age']\n",
        "col_y = 'outcome'\n",
        "folds = 5\n",
        "res = []\n",
        "\n",
        "print(f\"Running XGBoost on bootstrapped datasets\\n\" + \"-\"*50)\n",
        "\n",
        "def run_cv(X, y):\n",
        "    model = xgb.XGBClassifier(\n",
        "        objective='binary:logistic',\n",
        "        eval_metric='logloss',\n",
        "        use_label_encoder=False,\n",
        "        n_jobs=-1\n",
        "    )\n",
        "    cv = KFold(n_splits=folds, shuffle=True, random_state=42)\n",
        "    t0 = time.time()\n",
        "    acc = cross_val_score(model, X, y, cv=cv, scoring='accuracy', n_jobs=-1)\n",
        "    return np.mean(acc), time.time() - t0\n",
        "\n",
        "for sz in sizes:\n",
        "    print(f\"\\nDataset Size: {sz}\")\n",
        "    try:\n",
        "        # Read the correct RDS file\n",
        "        t0 = time.time()\n",
        "        result = pyreadr.read_r(f\"bootstrap_data_{sz}.rds\")\n",
        "        df = result[None]  # Extract the dataframe\n",
        "        print(f\"Loaded in {time.time() - t0:.2f} seconds\")\n",
        "\n",
        "        if not all(c in df.columns for c in cols_x + [col_y]):\n",
        "            raise ValueError(f\"Missing columns. Found columns: {df.columns.tolist()}\")\n",
        "\n",
        "        X = df[cols_x]\n",
        "        y = df[col_y].astype(int)\n",
        "        print(\"Running 5-fold Cross-Validation...\")\n",
        "\n",
        "        acc, t_cv = run_cv(X, y)\n",
        "        print(f\"Time: {t_cv:.2f} seconds | Accuracy: {acc:.4f}\")\n",
        "\n",
        "        res.append({\"Method\": \"XGBoost (scikit-learn CV)\", \"Dataset Size\": sz, \"Accuracy\": acc, \"Time (s)\": t_cv})\n",
        "\n",
        "    except Exception as e:\n",
        "        print(f\"Error with dataset size {sz}: {e}\")\n",
        "        res.append({\"Method\": \"XGBoost (scikit-learn CV)\", \"Dataset Size\": sz, \"Accuracy\": \"Error\", \"Time (s)\": \"Error\"})\n",
        "\n",
        "# Report\n",
        "print(\"\\n\" + \"=\"*50)\n",
        "print(\"Summary of Results\")\n",
        "print(\"=\"*50)\n",
        "df_res = pd.DataFrame(res)\n",
        "print(df_res.to_string(index=False))\n",
        "df_res.to_csv(\"xgb_summary_results.csv\", index=False)\n",
        "print(\"\\nResults saved to xgb_summary_results.csv ✅\")\n"
      ],
      "metadata": {
        "id": "Tg1BpL4jSokZ",
        "colab": {
          "base_uri": "https://localhost:8080/"
        },
        "outputId": "ad5dbeb9-6ed0-4839-a13c-30e6318f6aae"
      },
      "execution_count": 10,
      "outputs": [
        {
          "output_type": "stream",
          "name": "stdout",
          "text": [
            "Requirement already satisfied: pyreadr in /usr/local/lib/python3.11/dist-packages (0.5.3)\n",
            "Requirement already satisfied: pandas>=1.2.0 in /usr/local/lib/python3.11/dist-packages (from pyreadr) (2.2.2)\n",
            "Requirement already satisfied: numpy>=1.23.2 in /usr/local/lib/python3.11/dist-packages (from pandas>=1.2.0->pyreadr) (2.0.2)\n",
            "Requirement already satisfied: python-dateutil>=2.8.2 in /usr/local/lib/python3.11/dist-packages (from pandas>=1.2.0->pyreadr) (2.8.2)\n",
            "Requirement already satisfied: pytz>=2020.1 in /usr/local/lib/python3.11/dist-packages (from pandas>=1.2.0->pyreadr) (2025.2)\n",
            "Requirement already satisfied: tzdata>=2022.7 in /usr/local/lib/python3.11/dist-packages (from pandas>=1.2.0->pyreadr) (2025.2)\n",
            "Requirement already satisfied: six>=1.5 in /usr/local/lib/python3.11/dist-packages (from python-dateutil>=2.8.2->pandas>=1.2.0->pyreadr) (1.17.0)\n",
            "Running XGBoost on bootstrapped datasets\n",
            "--------------------------------------------------\n",
            "\n",
            "Dataset Size: 100\n",
            "Loaded in 0.00 seconds\n",
            "Running 5-fold Cross-Validation...\n",
            "Time: 2.76 seconds | Accuracy: 0.9300\n",
            "\n",
            "Dataset Size: 1000\n",
            "Loaded in 0.01 seconds\n",
            "Running 5-fold Cross-Validation...\n",
            "Time: 0.38 seconds | Accuracy: 0.9440\n",
            "\n",
            "Dataset Size: 10000\n",
            "Loaded in 0.03 seconds\n",
            "Running 5-fold Cross-Validation...\n",
            "Time: 1.12 seconds | Accuracy: 0.9754\n",
            "\n",
            "Dataset Size: 100000\n",
            "Loaded in 0.15 seconds\n",
            "Running 5-fold Cross-Validation...\n",
            "Time: 3.83 seconds | Accuracy: 0.9868\n",
            "\n",
            "Dataset Size: 1000000\n",
            "Loaded in 1.55 seconds\n",
            "Running 5-fold Cross-Validation...\n",
            "Time: 38.01 seconds | Accuracy: 0.9919\n",
            "\n",
            "Dataset Size: 10000000\n",
            "Loaded in 17.20 seconds\n",
            "Running 5-fold Cross-Validation...\n"
          ]
        },
        {
          "output_type": "stream",
          "name": "stderr",
          "text": [
            "/usr/local/lib/python3.11/dist-packages/joblib/externals/loky/process_executor.py:752: UserWarning: A worker stopped while some jobs were given to the executor. This can be caused by a too short worker timeout or by a memory leak.\n",
            "  warnings.warn(\n"
          ]
        },
        {
          "output_type": "stream",
          "name": "stdout",
          "text": [
            "Time: 401.38 seconds | Accuracy: 0.9932\n",
            "\n",
            "==================================================\n",
            "Summary of Results\n",
            "==================================================\n",
            "                   Method  Dataset Size  Accuracy   Time (s)\n",
            "XGBoost (scikit-learn CV)           100  0.930000   2.763152\n",
            "XGBoost (scikit-learn CV)          1000  0.944000   0.378408\n",
            "XGBoost (scikit-learn CV)         10000  0.975400   1.117135\n",
            "XGBoost (scikit-learn CV)        100000  0.986760   3.834116\n",
            "XGBoost (scikit-learn CV)       1000000  0.991872  38.009035\n",
            "XGBoost (scikit-learn CV)      10000000  0.993176 401.379248\n",
            "\n",
            "Results saved to xgb_summary_results.csv ✅\n"
          ]
        }
      ]
    }
  ],
  "metadata": {
    "colab": {
      "provenance": []
    },
    "kernelspec": {
      "display_name": "Python 3",
      "name": "python3"
    }
  },
  "nbformat": 4,
  "nbformat_minor": 0
}